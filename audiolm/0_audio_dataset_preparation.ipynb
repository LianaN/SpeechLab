{
 "cells": [
  {
   "cell_type": "code",
   "execution_count": 30,
   "metadata": {},
   "outputs": [
    {
     "name": "stdout",
     "output_type": "stream",
     "text": [
      "Requirement already satisfied: openai in /anaconda/envs/azureml_py38/lib/python3.8/site-packages (0.27.8)\n",
      "Requirement already satisfied: requests>=2.20 in /anaconda/envs/azureml_py38/lib/python3.8/site-packages (from openai) (2.31.0)\n",
      "Requirement already satisfied: aiohttp in /anaconda/envs/azureml_py38/lib/python3.8/site-packages (from openai) (3.8.4)\n",
      "Requirement already satisfied: tqdm in /anaconda/envs/azureml_py38/lib/python3.8/site-packages (from openai) (4.65.0)\n",
      "Requirement already satisfied: urllib3<3,>=1.21.1 in /anaconda/envs/azureml_py38/lib/python3.8/site-packages (from requests>=2.20->openai) (1.26.16)\n",
      "Requirement already satisfied: charset-normalizer<4,>=2 in /anaconda/envs/azureml_py38/lib/python3.8/site-packages (from requests>=2.20->openai) (3.1.0)\n",
      "Requirement already satisfied: certifi>=2017.4.17 in /anaconda/envs/azureml_py38/lib/python3.8/site-packages (from requests>=2.20->openai) (2022.9.24)\n",
      "Requirement already satisfied: idna<4,>=2.5 in /anaconda/envs/azureml_py38/lib/python3.8/site-packages (from requests>=2.20->openai) (3.4)\n",
      "Requirement already satisfied: aiosignal>=1.1.2 in /anaconda/envs/azureml_py38/lib/python3.8/site-packages (from aiohttp->openai) (1.3.1)\n",
      "Requirement already satisfied: frozenlist>=1.1.1 in /anaconda/envs/azureml_py38/lib/python3.8/site-packages (from aiohttp->openai) (1.3.3)\n",
      "Requirement already satisfied: async-timeout<5.0,>=4.0.0a3 in /anaconda/envs/azureml_py38/lib/python3.8/site-packages (from aiohttp->openai) (4.0.2)\n",
      "Requirement already satisfied: attrs>=17.3.0 in /anaconda/envs/azureml_py38/lib/python3.8/site-packages (from aiohttp->openai) (23.1.0)\n",
      "Requirement already satisfied: yarl<2.0,>=1.0 in /anaconda/envs/azureml_py38/lib/python3.8/site-packages (from aiohttp->openai) (1.9.2)\n",
      "Requirement already satisfied: multidict<7.0,>=4.5 in /anaconda/envs/azureml_py38/lib/python3.8/site-packages (from aiohttp->openai) (6.0.4)\n",
      "Requirement already satisfied: langchain in /anaconda/envs/azureml_py38/lib/python3.8/site-packages (0.0.238)\n",
      "Requirement already satisfied: SQLAlchemy<3,>=1.4 in /anaconda/envs/azureml_py38/lib/python3.8/site-packages (from langchain) (2.0.19)\n",
      "Requirement already satisfied: requests<3,>=2 in /anaconda/envs/azureml_py38/lib/python3.8/site-packages (from langchain) (2.31.0)\n",
      "Requirement already satisfied: numexpr<3.0.0,>=2.8.4 in /anaconda/envs/azureml_py38/lib/python3.8/site-packages (from langchain) (2.8.4)\n",
      "Requirement already satisfied: aiohttp<4.0.0,>=3.8.3 in /anaconda/envs/azureml_py38/lib/python3.8/site-packages (from langchain) (3.8.4)\n",
      "Requirement already satisfied: async-timeout<5.0.0,>=4.0.0; python_version < \"3.11\" in /anaconda/envs/azureml_py38/lib/python3.8/site-packages (from langchain) (4.0.2)\n",
      "Requirement already satisfied: dataclasses-json<0.6.0,>=0.5.7 in /anaconda/envs/azureml_py38/lib/python3.8/site-packages (from langchain) (0.5.13)\n",
      "Requirement already satisfied: pydantic<2,>=1 in /anaconda/envs/azureml_py38/lib/python3.8/site-packages (from langchain) (1.10.8)\n",
      "Requirement already satisfied: numpy<2,>=1 in /anaconda/envs/azureml_py38/lib/python3.8/site-packages (from langchain) (1.21.6)\n",
      "Requirement already satisfied: langsmith<0.1.0,>=0.0.11 in /anaconda/envs/azureml_py38/lib/python3.8/site-packages (from langchain) (0.0.12)\n",
      "Requirement already satisfied: PyYAML>=5.4.1 in /anaconda/envs/azureml_py38/lib/python3.8/site-packages (from langchain) (6.0)\n",
      "Requirement already satisfied: tenacity<9.0.0,>=8.1.0 in /anaconda/envs/azureml_py38/lib/python3.8/site-packages (from langchain) (8.2.2)\n",
      "Requirement already satisfied: openapi-schema-pydantic<2.0,>=1.2 in /anaconda/envs/azureml_py38/lib/python3.8/site-packages (from langchain) (1.2.4)\n",
      "Requirement already satisfied: greenlet!=0.4.17; platform_machine == \"aarch64\" or (platform_machine == \"ppc64le\" or (platform_machine == \"x86_64\" or (platform_machine == \"amd64\" or (platform_machine == \"AMD64\" or (platform_machine == \"win32\" or platform_machine == \"WIN32\"))))) in /anaconda/envs/azureml_py38/lib/python3.8/site-packages (from SQLAlchemy<3,>=1.4->langchain) (2.0.2)\n",
      "Requirement already satisfied: typing-extensions>=4.2.0 in /anaconda/envs/azureml_py38/lib/python3.8/site-packages (from SQLAlchemy<3,>=1.4->langchain) (4.6.0)\n",
      "Requirement already satisfied: urllib3<3,>=1.21.1 in /anaconda/envs/azureml_py38/lib/python3.8/site-packages (from requests<3,>=2->langchain) (1.26.16)\n",
      "Requirement already satisfied: idna<4,>=2.5 in /anaconda/envs/azureml_py38/lib/python3.8/site-packages (from requests<3,>=2->langchain) (3.4)\n",
      "Requirement already satisfied: charset-normalizer<4,>=2 in /anaconda/envs/azureml_py38/lib/python3.8/site-packages (from requests<3,>=2->langchain) (3.1.0)\n",
      "Requirement already satisfied: certifi>=2017.4.17 in /anaconda/envs/azureml_py38/lib/python3.8/site-packages (from requests<3,>=2->langchain) (2022.9.24)\n",
      "Requirement already satisfied: multidict<7.0,>=4.5 in /anaconda/envs/azureml_py38/lib/python3.8/site-packages (from aiohttp<4.0.0,>=3.8.3->langchain) (6.0.4)\n",
      "Requirement already satisfied: aiosignal>=1.1.2 in /anaconda/envs/azureml_py38/lib/python3.8/site-packages (from aiohttp<4.0.0,>=3.8.3->langchain) (1.3.1)\n",
      "Requirement already satisfied: frozenlist>=1.1.1 in /anaconda/envs/azureml_py38/lib/python3.8/site-packages (from aiohttp<4.0.0,>=3.8.3->langchain) (1.3.3)\n",
      "Requirement already satisfied: attrs>=17.3.0 in /anaconda/envs/azureml_py38/lib/python3.8/site-packages (from aiohttp<4.0.0,>=3.8.3->langchain) (23.1.0)\n",
      "Requirement already satisfied: yarl<2.0,>=1.0 in /anaconda/envs/azureml_py38/lib/python3.8/site-packages (from aiohttp<4.0.0,>=3.8.3->langchain) (1.9.2)\n",
      "Requirement already satisfied: typing-inspect<1,>=0.4.0 in /anaconda/envs/azureml_py38/lib/python3.8/site-packages (from dataclasses-json<0.6.0,>=0.5.7->langchain) (0.9.0)\n",
      "Requirement already satisfied: marshmallow<4.0.0,>=3.18.0 in /anaconda/envs/azureml_py38/lib/python3.8/site-packages (from dataclasses-json<0.6.0,>=0.5.7->langchain) (3.20.1)\n",
      "Requirement already satisfied: mypy-extensions>=0.3.0 in /anaconda/envs/azureml_py38/lib/python3.8/site-packages (from typing-inspect<1,>=0.4.0->dataclasses-json<0.6.0,>=0.5.7->langchain) (1.0.0)\n",
      "Requirement already satisfied: packaging>=17.0 in /anaconda/envs/azureml_py38/lib/python3.8/site-packages (from marshmallow<4.0.0,>=3.18.0->dataclasses-json<0.6.0,>=0.5.7->langchain) (23.0)\n",
      "Requirement already satisfied: youtube_search in /anaconda/envs/azureml_py38/lib/python3.8/site-packages (2.1.2)\n",
      "Requirement already satisfied: requests in /anaconda/envs/azureml_py38/lib/python3.8/site-packages (from youtube_search) (2.31.0)\n",
      "Requirement already satisfied: certifi>=2017.4.17 in /anaconda/envs/azureml_py38/lib/python3.8/site-packages (from requests->youtube_search) (2022.9.24)\n",
      "Requirement already satisfied: idna<4,>=2.5 in /anaconda/envs/azureml_py38/lib/python3.8/site-packages (from requests->youtube_search) (3.4)\n",
      "Requirement already satisfied: charset-normalizer<4,>=2 in /anaconda/envs/azureml_py38/lib/python3.8/site-packages (from requests->youtube_search) (3.1.0)\n",
      "Requirement already satisfied: urllib3<3,>=1.21.1 in /anaconda/envs/azureml_py38/lib/python3.8/site-packages (from requests->youtube_search) (1.26.16)\n",
      "Collecting pytube\n",
      "  Downloading pytube-15.0.0-py3-none-any.whl (57 kB)\n",
      "\u001b[K     |████████████████████████████████| 57 kB 3.1 MB/s eta 0:00:011\n",
      "\u001b[?25hInstalling collected packages: pytube\n",
      "Successfully installed pytube-15.0.0\n",
      "Requirement already satisfied: pydub in /anaconda/envs/azureml_py38/lib/python3.8/site-packages (0.25.1)\n"
     ]
    }
   ],
   "source": [
    "%pip install openai\n",
    "%pip install langchain\n",
    "%pip install youtube_search\n",
    "%python -m pip install pytube\n",
    "%pip install pydub"
   ]
  },
  {
   "cell_type": "code",
   "execution_count": 32,
   "metadata": {},
   "outputs": [],
   "source": [
    "import os\n",
    "import ast\n",
    "import openai\n",
    "from langchain.tools import YouTubeSearchTool\n",
    "from pytube import YouTube\n",
    "from pydub import AudioSegment"
   ]
  },
  {
   "cell_type": "code",
   "execution_count": 48,
   "metadata": {},
   "outputs": [],
   "source": [
    "os.environ[\"OPENAI_API_KEY\"] = \"...\"\n",
    "\n",
    "raw_output_folder = \"audio/raw\"\n",
    "segments_output_folder = \"audio/segments\"\n",
    "output_file_basename = \"audio_segment\""
   ]
  },
  {
   "cell_type": "code",
   "execution_count": 54,
   "metadata": {},
   "outputs": [],
   "source": [
    "def download_audio(yt_url, output_folder, output_filename):\n",
    "    youtube = YouTube(yt_url)\n",
    "    stream = youtube.streams.filter(only_audio=True).first()\n",
    "    stream.download(output_path=output_folder, filename=f\"{output_filename}.mp4\")\n",
    "    audio = AudioSegment.from_file(f\"{output_folder}/{output_filename}.mp4\")\n",
    "    audio.export(f\"{output_folder}/{output_filename}.mp3\", format=\"mp3\")\n",
    "    os.remove(f\"{output_folder}/{output_filename}.mp4\")\n",
    "    return audio"
   ]
  },
  {
   "cell_type": "code",
   "execution_count": 4,
   "metadata": {},
   "outputs": [],
   "source": [
    "tool = YouTubeSearchTool()"
   ]
  },
  {
   "cell_type": "code",
   "execution_count": 55,
   "metadata": {},
   "outputs": [
    {
     "data": {
      "text/plain": [
       "['/watch?v=Z8wkoY_WWTc&pp=ygUWYXNtciBsZWN0dXJhIHN1c3VycmFkYQ%3D%3D',\n",
       " '/watch?v=meEyLOBozhA&pp=ygUWYXNtciBsZWN0dXJhIHN1c3VycmFkYQ%3D%3D',\n",
       " '/watch?v=BhNTF2n7LDI&pp=ygUWYXNtciBsZWN0dXJhIHN1c3VycmFkYQ%3D%3D',\n",
       " '/watch?v=Qko7rSNwEKE&pp=ygUWYXNtciBsZWN0dXJhIHN1c3VycmFkYQ%3D%3D',\n",
       " '/watch?v=Hok30oLmaCA&pp=ygUWYXNtciBsZWN0dXJhIHN1c3VycmFkYQ%3D%3D',\n",
       " '/watch?v=sUfClIGTP5Y&pp=ygUWYXNtciBsZWN0dXJhIHN1c3VycmFkYQ%3D%3D',\n",
       " '/watch?v=7yEFOiT0QJI&pp=ygUWYXNtciBsZWN0dXJhIHN1c3VycmFkYQ%3D%3D',\n",
       " '/watch?v=clw9gronjgs&pp=ygUWYXNtciBsZWN0dXJhIHN1c3VycmFkYQ%3D%3D',\n",
       " '/watch?v=vvI8pf4bxFk&pp=ygUWYXNtciBsZWN0dXJhIHN1c3VycmFkYQ%3D%3D',\n",
       " '/watch?v=eGz7ifSpb-s&pp=ygUWYXNtciBsZWN0dXJhIHN1c3VycmFkYQ%3D%3D',\n",
       " '/watch?v=y6nwyuYZ1DE&pp=ygUWYXNtciBsZWN0dXJhIHN1c3VycmFkYQ%3D%3D',\n",
       " '/watch?v=XzITIglBvfQ&pp=ygUWYXNtciBsZWN0dXJhIHN1c3VycmFkYQ%3D%3D',\n",
       " '/watch?v=n-XkdvZXfn0&pp=ygUWYXNtciBsZWN0dXJhIHN1c3VycmFkYQ%3D%3D',\n",
       " '/watch?v=_swpGj1Lx2Q&pp=ygUWYXNtciBsZWN0dXJhIHN1c3VycmFkYQ%3D%3D',\n",
       " '/watch?v=G0CMOlxBBG0&pp=ygUWYXNtciBsZWN0dXJhIHN1c3VycmFkYQ%3D%3D',\n",
       " '/watch?v=LkDLAgyYHO8&pp=ygUWYXNtciBsZWN0dXJhIHN1c3VycmFkYQ%3D%3D',\n",
       " '/watch?v=I2FduOto8Hs&pp=ygUWYXNtciBsZWN0dXJhIHN1c3VycmFkYQ%3D%3D',\n",
       " '/watch?v=gQ22GSM3m6c&pp=ygUWYXNtciBsZWN0dXJhIHN1c3VycmFkYQ%3D%3D',\n",
       " '/watch?v=NcBoMnOc-Z8&pp=ygUWYXNtciBsZWN0dXJhIHN1c3VycmFkYQ%3D%3D',\n",
       " '/watch?v=ct_u6UpY5uo&pp=ygUWYXNtciBsZWN0dXJhIHN1c3VycmFkYQ%3D%3D']"
      ]
     },
     "execution_count": 55,
     "metadata": {},
     "output_type": "execute_result"
    }
   ],
   "source": [
    "youtube_links = tool.run(\"asmr lectura susurrada, 100\")\n",
    "youtube_links = ast.literal_eval(youtube_links)\n",
    "youtube_links"
   ]
  },
  {
   "cell_type": "code",
   "execution_count": 56,
   "metadata": {},
   "outputs": [
    {
     "data": {
      "text/plain": [
       "20"
      ]
     },
     "execution_count": 56,
     "metadata": {},
     "output_type": "execute_result"
    }
   ],
   "source": [
    "len(youtube_links)"
   ]
  },
  {
   "cell_type": "code",
   "execution_count": 57,
   "metadata": {},
   "outputs": [],
   "source": [
    "audio_segment_duration_seconds = 4\n",
    "\n",
    "for i in range(len(youtube_links)):\n",
    "    yt_url = youtube_links[i]\n",
    "    yt_url = f\"https://www.youtube.com{yt_url}\"\n",
    "    output_filename = f\"{output_file_basename}_{i}\"\n",
    "    audio = download_audio(yt_url, raw_output_folder, output_filename)\n",
    "\n",
    "    # split into 4-second segments and save\n",
    "    shift_milliseconds = 60*1000\n",
    "    segment_len_milliseconds = audio_segment_duration_seconds*1000\n",
    "    for j in range(shift_milliseconds, len(audio), segment_len_milliseconds):  # start at <shift_seconds> milliseconds and step by <segment_len_milliseconds> milliseconds\n",
    "        segment = audio[j:j+segment_len_milliseconds]\n",
    "        num = f\"{i}_{j}\"\n",
    "        segment.export(f\"{segments_output_folder}/{output_filename}_{num}.mp3\", format=\"mp3\")"
   ]
  },
  {
   "cell_type": "code",
   "execution_count": 58,
   "metadata": {},
   "outputs": [
    {
     "name": "stdout",
     "output_type": "stream",
     "text": [
      "There are 8239 files in the folder.\n"
     ]
    }
   ],
   "source": [
    "# list all the files in the directory\n",
    "files = os.listdir(segments_output_folder)\n",
    "\n",
    "# count the number of files\n",
    "num_files = sum([1 for file in files if os.path.isfile(os.path.join(segments_output_folder, file))])\n",
    "\n",
    "print(f\"There are {num_files} files in the folder.\")"
   ]
  },
  {
   "cell_type": "code",
   "execution_count": null,
   "metadata": {},
   "outputs": [],
   "source": []
  }
 ],
 "metadata": {
  "kernelspec": {
   "display_name": "Python 3.8 - AzureML",
   "language": "python",
   "name": "python38-azureml"
  },
  "language_info": {
   "codemirror_mode": {
    "name": "ipython",
    "version": 3
   },
   "file_extension": ".py",
   "mimetype": "text/x-python",
   "name": "python",
   "nbconvert_exporter": "python",
   "pygments_lexer": "ipython3",
   "version": "3.8.5"
  },
  "orig_nbformat": 4
 },
 "nbformat": 4,
 "nbformat_minor": 2
}
